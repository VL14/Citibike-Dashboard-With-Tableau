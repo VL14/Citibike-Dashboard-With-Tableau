{
 "cells": [
  {
   "cell_type": "code",
   "execution_count": 1,
   "metadata": {},
   "outputs": [],
   "source": [
    "import pandas as pd"
   ]
  },
  {
   "cell_type": "code",
   "execution_count": 2,
   "metadata": {},
   "outputs": [],
   "source": [
    "d1 = pd.read_csv(\"Data/JC-202005-citibike-tripdata.csv\")\n",
    "d2 = pd.read_csv(\"Data/JC-202004-citibike-tripdata.csv\")\n",
    "d3 = pd.read_csv(\"Data/JC-202003-citibike-tripdata.csv\")\n",
    "d4 = pd.read_csv(\"Data/JC-202002-citibike-tripdata.csv\")\n",
    "d5 = pd.read_csv(\"Data/JC-202001-citibike-tripdata.csv\")\n",
    "d6 = pd.read_csv(\"Data/JC-201912-citibike-tripdata.csv\")\n",
    "d7 = pd.read_csv(\"Data/JC-201911-citibike-tripdata.csv\")\n",
    "d8 = pd.read_csv(\"Data/JC-201910-citibike-tripdata.csv\")\n",
    "d9 = pd.read_csv(\"Data/JC-201909-citibike-tripdata.csv\")\n",
    "d10 = pd.read_csv(\"Data/JC-201908-citibike-tripdata.csv\")\n",
    "d11 = pd.read_csv(\"Data/JC-201907-citibike-tripdata.csv\")\n",
    "d12 = pd.read_csv(\"Data/JC-201906-citibike-tripdata.csv\")\n",
    "d13 = pd.read_csv(\"Data/JC-201905-citibike-tripdata.csv\")\n",
    "d14 = pd.read_csv(\"Data/JC-201904-citibike-tripdata.csv\")\n",
    "d15 = pd.read_csv(\"Data/JC-201903-citibike-tripdata.csv\")\n",
    "d16 = pd.read_csv(\"Data/JC-201902-citibike-tripdata.csv\")\n",
    "d17 = pd.read_csv(\"Data/JC-201901-citibike-tripdata.csv\")\n",
    "d18 = pd.read_csv(\"Data/JC-201812-citibike-tripdata.csv\")\n",
    "d19 = pd.read_csv(\"Data/JC-201811-citibike-tripdata.csv\")\n",
    "d20 = pd.read_csv(\"Data/JC-201810-citibike-tripdata.csv\")\n",
    "d21 = pd.read_csv(\"Data/JC-201809-citibike-tripdata.csv\")\n",
    "d22 = pd.read_csv(\"Data/JC-201808-citibike-tripdata.csv\")\n",
    "d23 = pd.read_csv(\"Data/JC-201807-citibike-tripdata.csv\")\n",
    "d24 = pd.read_csv(\"Data/JC-201806-citibike-tripdata.csv\")\n",
    "d25 = pd.read_csv(\"Data/JC-201805-citibike-tripdata.csv\")\n",
    "d26 = pd.read_csv(\"Data/JC-201804-citibike-tripdata.csv\")\n",
    "d27 = pd.read_csv(\"Data/JC-201803-citibike-tripdata.csv\")\n",
    "d28 = pd.read_csv(\"Data/JC-201802-citibike-tripdata.csv\")\n",
    "d29 = pd.read_csv(\"Data/JC-201801-citibike-tripdata.csv\")"
   ]
  },
  {
   "cell_type": "code",
   "execution_count": 3,
   "metadata": {},
   "outputs": [
    {
     "output_type": "execute_result",
     "data": {
      "text/plain": "tripduration               859885\nstarttime                  859885\nstoptime                   859885\nstart station id           859885\nstart station name         859885\nstart station latitude     859885\nstart station longitude    859885\nend station id             859885\nend station name           859885\nend station latitude       859885\nend station longitude      859885\nbikeid                     859885\nusertype                   859885\nbirth year                 859885\ngender                     859885\ndtype: int64"
     },
     "metadata": {},
     "execution_count": 3
    }
   ],
   "source": [
    "df_final = pd.concat([d1,d2,d3,d4,d5,d6,d7,d8,d9,d10,d11,d12,d13,d14,d15,d16,d17,d18,d19,d20,d21,d22,d23,d24,d25,d26,d27,d28,d29])\n",
    "df_final.count()"
   ]
  },
  {
   "cell_type": "code",
   "execution_count": 4,
   "metadata": {},
   "outputs": [],
   "source": [
    "df_final.to_csv(\"cb12m_trip_data.csv\", index=False)"
   ]
  },
  {
   "cell_type": "code",
   "execution_count": 5,
   "metadata": {},
   "outputs": [
    {
     "output_type": "execute_result",
     "data": {
      "text/plain": "        tripduration                 starttime                  stoptime  \\\n859875           705  2018-01-30 16:34:20.0470  2018-01-30 16:46:05.7640   \n859876           491  2018-01-30 17:30:26.4000  2018-01-30 17:38:38.3360   \n859877           284  2018-01-30 18:58:19.0490  2018-01-30 19:03:04.0060   \n859878           265  2018-01-30 21:25:14.8410  2018-01-30 21:29:40.5050   \n859879           266  2018-01-31 11:03:40.7660  2018-01-31 11:08:06.8270   \n859880           247  2018-01-31 11:03:59.1750  2018-01-31 11:08:07.0570   \n859881           806  2018-01-31 15:34:36.8370  2018-01-31 15:48:03.0280   \n859882          1499  2018-01-31 15:45:09.8000  2018-01-31 16:10:09.4400   \n859883           291  2018-01-31 16:54:11.9480  2018-01-31 16:59:03.5760   \n859884           383  2018-01-31 18:34:50.2950  2018-01-31 18:41:13.7530   \n\n        start station id start station name  start station latitude  \\\n859875              3640     Journal Square                40.73367   \n859876              3640     Journal Square                40.73367   \n859877              3640     Journal Square                40.73367   \n859878              3640     Journal Square                40.73367   \n859879              3640     Journal Square                40.73367   \n859880              3640     Journal Square                40.73367   \n859881              3640     Journal Square                40.73367   \n859882              3640     Journal Square                40.73367   \n859883              3640     Journal Square                40.73367   \n859884              3640     Journal Square                40.73367   \n\n        start station longitude  end station id     end station name  \\\n859875                 -74.0625            3194      McGinley Square   \n859876                 -74.0625            3281  Leonard Gordon Park   \n859877                 -74.0625            3207          Oakland Ave   \n859878                 -74.0625            3207          Oakland Ave   \n859879                 -74.0625            3201               Dey St   \n859880                 -74.0625            3201               Dey St   \n859881                 -74.0625            3211           Newark Ave   \n859882                 -74.0625            3640       Journal Square   \n859883                 -74.0625            3201               Dey St   \n859884                 -74.0625            3194      McGinley Square   \n\n        end station latitude  end station longitude  bikeid    usertype  \\\n859875             40.725340             -74.067622   31870  Subscriber   \n859876             40.745910             -74.057271   29622  Subscriber   \n859877             40.737604             -74.052478   31861  Subscriber   \n859878             40.737604             -74.052478   26289  Subscriber   \n859879             40.737711             -74.066921   31841  Subscriber   \n859880             40.737711             -74.066921   31828  Subscriber   \n859881             40.721525             -74.046305   31842  Subscriber   \n859882             40.733670             -74.062500   29622  Subscriber   \n859883             40.737711             -74.066921   29622  Subscriber   \n859884             40.725340             -74.067622   31690  Subscriber   \n\n        birth year  gender  \n859875        1980       1  \n859876        1972       1  \n859877        1983       1  \n859878        1986       1  \n859879        1962       2  \n859880        1962       1  \n859881        1987       1  \n859882        1981       1  \n859883        1963       1  \n859884        1989       1  ",
      "text/html": "<div>\n<style scoped>\n    .dataframe tbody tr th:only-of-type {\n        vertical-align: middle;\n    }\n\n    .dataframe tbody tr th {\n        vertical-align: top;\n    }\n\n    .dataframe thead th {\n        text-align: right;\n    }\n</style>\n<table border=\"1\" class=\"dataframe\">\n  <thead>\n    <tr style=\"text-align: right;\">\n      <th></th>\n      <th>tripduration</th>\n      <th>starttime</th>\n      <th>stoptime</th>\n      <th>start station id</th>\n      <th>start station name</th>\n      <th>start station latitude</th>\n      <th>start station longitude</th>\n      <th>end station id</th>\n      <th>end station name</th>\n      <th>end station latitude</th>\n      <th>end station longitude</th>\n      <th>bikeid</th>\n      <th>usertype</th>\n      <th>birth year</th>\n      <th>gender</th>\n    </tr>\n  </thead>\n  <tbody>\n    <tr>\n      <th>859875</th>\n      <td>705</td>\n      <td>2018-01-30 16:34:20.0470</td>\n      <td>2018-01-30 16:46:05.7640</td>\n      <td>3640</td>\n      <td>Journal Square</td>\n      <td>40.73367</td>\n      <td>-74.0625</td>\n      <td>3194</td>\n      <td>McGinley Square</td>\n      <td>40.725340</td>\n      <td>-74.067622</td>\n      <td>31870</td>\n      <td>Subscriber</td>\n      <td>1980</td>\n      <td>1</td>\n    </tr>\n    <tr>\n      <th>859876</th>\n      <td>491</td>\n      <td>2018-01-30 17:30:26.4000</td>\n      <td>2018-01-30 17:38:38.3360</td>\n      <td>3640</td>\n      <td>Journal Square</td>\n      <td>40.73367</td>\n      <td>-74.0625</td>\n      <td>3281</td>\n      <td>Leonard Gordon Park</td>\n      <td>40.745910</td>\n      <td>-74.057271</td>\n      <td>29622</td>\n      <td>Subscriber</td>\n      <td>1972</td>\n      <td>1</td>\n    </tr>\n    <tr>\n      <th>859877</th>\n      <td>284</td>\n      <td>2018-01-30 18:58:19.0490</td>\n      <td>2018-01-30 19:03:04.0060</td>\n      <td>3640</td>\n      <td>Journal Square</td>\n      <td>40.73367</td>\n      <td>-74.0625</td>\n      <td>3207</td>\n      <td>Oakland Ave</td>\n      <td>40.737604</td>\n      <td>-74.052478</td>\n      <td>31861</td>\n      <td>Subscriber</td>\n      <td>1983</td>\n      <td>1</td>\n    </tr>\n    <tr>\n      <th>859878</th>\n      <td>265</td>\n      <td>2018-01-30 21:25:14.8410</td>\n      <td>2018-01-30 21:29:40.5050</td>\n      <td>3640</td>\n      <td>Journal Square</td>\n      <td>40.73367</td>\n      <td>-74.0625</td>\n      <td>3207</td>\n      <td>Oakland Ave</td>\n      <td>40.737604</td>\n      <td>-74.052478</td>\n      <td>26289</td>\n      <td>Subscriber</td>\n      <td>1986</td>\n      <td>1</td>\n    </tr>\n    <tr>\n      <th>859879</th>\n      <td>266</td>\n      <td>2018-01-31 11:03:40.7660</td>\n      <td>2018-01-31 11:08:06.8270</td>\n      <td>3640</td>\n      <td>Journal Square</td>\n      <td>40.73367</td>\n      <td>-74.0625</td>\n      <td>3201</td>\n      <td>Dey St</td>\n      <td>40.737711</td>\n      <td>-74.066921</td>\n      <td>31841</td>\n      <td>Subscriber</td>\n      <td>1962</td>\n      <td>2</td>\n    </tr>\n    <tr>\n      <th>859880</th>\n      <td>247</td>\n      <td>2018-01-31 11:03:59.1750</td>\n      <td>2018-01-31 11:08:07.0570</td>\n      <td>3640</td>\n      <td>Journal Square</td>\n      <td>40.73367</td>\n      <td>-74.0625</td>\n      <td>3201</td>\n      <td>Dey St</td>\n      <td>40.737711</td>\n      <td>-74.066921</td>\n      <td>31828</td>\n      <td>Subscriber</td>\n      <td>1962</td>\n      <td>1</td>\n    </tr>\n    <tr>\n      <th>859881</th>\n      <td>806</td>\n      <td>2018-01-31 15:34:36.8370</td>\n      <td>2018-01-31 15:48:03.0280</td>\n      <td>3640</td>\n      <td>Journal Square</td>\n      <td>40.73367</td>\n      <td>-74.0625</td>\n      <td>3211</td>\n      <td>Newark Ave</td>\n      <td>40.721525</td>\n      <td>-74.046305</td>\n      <td>31842</td>\n      <td>Subscriber</td>\n      <td>1987</td>\n      <td>1</td>\n    </tr>\n    <tr>\n      <th>859882</th>\n      <td>1499</td>\n      <td>2018-01-31 15:45:09.8000</td>\n      <td>2018-01-31 16:10:09.4400</td>\n      <td>3640</td>\n      <td>Journal Square</td>\n      <td>40.73367</td>\n      <td>-74.0625</td>\n      <td>3640</td>\n      <td>Journal Square</td>\n      <td>40.733670</td>\n      <td>-74.062500</td>\n      <td>29622</td>\n      <td>Subscriber</td>\n      <td>1981</td>\n      <td>1</td>\n    </tr>\n    <tr>\n      <th>859883</th>\n      <td>291</td>\n      <td>2018-01-31 16:54:11.9480</td>\n      <td>2018-01-31 16:59:03.5760</td>\n      <td>3640</td>\n      <td>Journal Square</td>\n      <td>40.73367</td>\n      <td>-74.0625</td>\n      <td>3201</td>\n      <td>Dey St</td>\n      <td>40.737711</td>\n      <td>-74.066921</td>\n      <td>29622</td>\n      <td>Subscriber</td>\n      <td>1963</td>\n      <td>1</td>\n    </tr>\n    <tr>\n      <th>859884</th>\n      <td>383</td>\n      <td>2018-01-31 18:34:50.2950</td>\n      <td>2018-01-31 18:41:13.7530</td>\n      <td>3640</td>\n      <td>Journal Square</td>\n      <td>40.73367</td>\n      <td>-74.0625</td>\n      <td>3194</td>\n      <td>McGinley Square</td>\n      <td>40.725340</td>\n      <td>-74.067622</td>\n      <td>31690</td>\n      <td>Subscriber</td>\n      <td>1989</td>\n      <td>1</td>\n    </tr>\n  </tbody>\n</table>\n</div>"
     },
     "metadata": {},
     "execution_count": 5
    }
   ],
   "source": [
    "check = pd.read_csv(\"cb12m_trip_data.csv\")\n",
    "check.tail(10)"
   ]
  },
  {
   "cell_type": "code",
   "execution_count": null,
   "metadata": {},
   "outputs": [],
   "source": []
  }
 ],
 "metadata": {
  "language_info": {
   "codemirror_mode": {
    "name": "ipython",
    "version": 3
   },
   "file_extension": ".py",
   "mimetype": "text/x-python",
   "name": "python",
   "nbconvert_exporter": "python",
   "pygments_lexer": "ipython3",
   "version": "3.7.7-final"
  },
  "orig_nbformat": 2,
  "kernelspec": {
   "name": "python37664bitpythondataconda7b76faf93e6a485bb209245349a7d6ad",
   "display_name": "Python 3.7.6 64-bit ('PythonData': conda)"
  }
 },
 "nbformat": 4,
 "nbformat_minor": 2
}